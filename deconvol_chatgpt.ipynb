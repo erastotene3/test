import pandas as pd
import numpy as np
import matplotlib.pyplot as plt
import time

from ipywidgets import interact, FloatSlider, VBox, HBox, Label

# Read the data from the input file
input_file = "input_file.xlsx"
data = pd.read_excel(input_file)
x_data = data['x'].values
y_data = data['y'].values

# Define the Gaussian function
def gaussian(x, mu, sigma, A):
    return A * np.exp(-(x - mu)**2 / (2 * sigma**2))

# Define the function to fit the data with the sum of three Gaussian peaks
def fit(x, mu1, sigma1, A1, mu2, sigma2, A2, mu3, sigma3, A3):
    return gaussian(x, mu1, sigma1, A1) + gaussian(x, mu2, sigma2, A2) + gaussian(x, mu3, sigma3, A3)

# Create sliders for each parameter
mu1_slider = FloatSlider(min=min(x_data), max=max(x_data), step=0.1, value=1, description="mu1")
sigma1_slider = FloatSlider(min=0.1, max=max(x_data) - min(x_data), step=0.1, value=1, description="sigma1")
A1_slider = FloatSlider(min=0, max=max(y_data), step=0.1, value=1, description="A1")

mu2_slider = FloatSlider(min=min(x_data), max=max(x_data), step=0.1, value=1, description="mu2")
sigma2_slider = FloatSlider(min=0.1, max=max(x_data) - min(x_data), step=0.1, value=1, description="sigma2")
A2_slider = FloatSlider(min=0, max=max(y_data), step=0.1, value=1, description="A2")

mu3_slider = FloatSlider(min=min(x_data), max=max(x_data), step=0.1, value=1, description="mu3")
sigma3_slider = FloatSlider(min=0.1, max=max(x_data) - min(x_data), step=0.1, value=1, description="sigma3")
A3_slider = FloatSlider(min=0, max=max(y_data), step=0.1, value=1, description="A3")

# Define a function to plot the fitted curve and original data
def plot_fit(mu1, sigma1, A1, mu2, sigma2, A2, mu3, sigma3, A3):
    time.sleep(0.2)  # Introduce a 200 ms delay before updating the plot
    plt.figure(figsize=(10, 6))
    plt.plot(x_data, y_data, 'bo', label='Data')
    plt.plot(x_data, fit(x_data, mu1, sigma1, A1, mu2, sigma2, A2, mu3, sigma3, A3), 'r-', label='Fit')
    plt.xlabel('X-axis')
    plt.ylabel('Y-axis')
    plt.legend()
    plt.show()


# Create the interactive plot with sliders
interactive_plot = interact(plot_fit,
                            mu1=mu1_slider,
                            sigma1=sigma1_slider,
                            A1=A1_slider,
                            mu2=mu2_slider,
                            sigma2=sigma2_slider,
                            A2=A2_slider,
                            mu3=mu3_slider,
                            sigma3=sigma3_slider,
                            A3=A3_slider)

# Organize sliders in columns
slider_ui = VBox([HBox([VBox([Label('Peak 1'), mu1_slider, sigma1_slider, A1_slider]),
                         VBox([Label('Peak 2'), mu2_slider, sigma2_slider, A2_slider]),
                         VBox([Label('Peak 3'), mu3_slider, sigma3_slider, A3_slider])])])

# Display the sliders and interactive plot
display(slider_ui)
interactive_plot
